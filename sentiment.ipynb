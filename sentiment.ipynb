{
 "cells": [
  {
   "cell_type": "code",
   "execution_count": 1,
   "metadata": {},
   "outputs": [],
   "source": [
    "import numpy as np \n",
    "import pandas as pd\n",
    "import matplotlib.pyplot as plt\n",
    "import seaborn as sns\n",
    "%matplotlib inline\n",
    "sns.set_style(\"whitegrid\")\n",
    "\n",
    "# Warnings\n",
    "import warnings\n",
    "warnings.filterwarnings('ignore')"
   ]
  },
  {
   "cell_type": "code",
   "execution_count": 2,
   "metadata": {},
   "outputs": [
    {
     "name": "stdout",
     "output_type": "stream",
     "text": [
      "['Aadhar Multispeciality Hospital, Narhe Pune', 'Anmol Multispeciality Clinic Hospital', 'ANUJA HOSPITAL', 'Bharati Hospital', 'City Care Hospital', 'City Hospital', 'Gawali Hospital', 'jalore hospital', 'Jeevan Uday Multispeciality Hospital', 'Khetmalas Hospital', 'KHETMALAS Hospital1', 'Lifeline Hospital', 'Mai Mangeshkar Hospital', 'Manas Hospital', 'MINERVA HOSPITAL', 'Mixis Multi Specialty Hospital', 'Nagare Nursing Home', 'Nanded Multispeciality Hospital', 'PATIL MULTISPECIALITY HOSPITAL AND LAPROSCOPY CENTER', 'Pune Medical and Research', 'Royal Hospital', 'Sai Sneh Hospital and Diagnostic Center', 'sanjivani hospital', 'Sharayu Multispeciality Hospital', 'SHIVNERI HOSPITAL', 'Shraddha Hospitals', 'SHREE HOSPITAL, NARHE, PUNE', 'Shreeyash Multi-speciality Hospital', 'Shrimangal hospital', 'Shwas Multispeciality Hospital', 'Siddhivinayak General Hospital', 'SILVER BIRCH MULTISPECIALITY HOSPITAL PVT.LTD', 'Sinhagad Speciality Hospital', 'Thube Nursing Home', 'VIGHNAHARTA HOSPITAL']\n"
     ]
    }
   ],
   "source": [
    "suburbs = []\n",
    "subs = open('areas.txt', 'r')\n",
    "for line in subs:\n",
    "    line = line.replace('(', '')\n",
    "    line = line.replace(')', '')\n",
    "    line = line.strip()\n",
    "    suburbs.append(line)\n",
    "subs.close\n",
    "print(suburbs)"
   ]
  },
  {
   "cell_type": "code",
   "execution_count": 3,
   "metadata": {},
   "outputs": [
    {
     "name": "stdout",
     "output_type": "stream",
     "text": [
      "2098\n"
     ]
    },
    {
     "data": {
      "text/html": [
       "<div>\n",
       "<style scoped>\n",
       "    .dataframe tbody tr th:only-of-type {\n",
       "        vertical-align: middle;\n",
       "    }\n",
       "\n",
       "    .dataframe tbody tr th {\n",
       "        vertical-align: top;\n",
       "    }\n",
       "\n",
       "    .dataframe thead th {\n",
       "        text-align: right;\n",
       "    }\n",
       "</style>\n",
       "<table border=\"1\" class=\"dataframe\">\n",
       "  <thead>\n",
       "    <tr style=\"text-align: right;\">\n",
       "      <th></th>\n",
       "      <th>Rating</th>\n",
       "      <th>Review</th>\n",
       "    </tr>\n",
       "  </thead>\n",
       "  <tbody>\n",
       "    <tr>\n",
       "      <th>0</th>\n",
       "      <td>5 stars</td>\n",
       "      <td>Best Multispecialty hospital in narhe near sin...</td>\n",
       "    </tr>\n",
       "    <tr>\n",
       "      <th>1</th>\n",
       "      <td>1 star</td>\n",
       "      <td>Not good hospital. Very very very much waiting...</td>\n",
       "    </tr>\n",
       "    <tr>\n",
       "      <th>2</th>\n",
       "      <td>1 star</td>\n",
       "      <td>Our patient got discharge 2 days before i expi...</td>\n",
       "    </tr>\n",
       "    <tr>\n",
       "      <th>3</th>\n",
       "      <td>5 stars</td>\n",
       "      <td>As a Surgeon I will always recommend Aadhar Mu...</td>\n",
       "    </tr>\n",
       "    <tr>\n",
       "      <th>4</th>\n",
       "      <td>5 stars</td>\n",
       "      <td>I am very  frequent visitor to this hospital f...</td>\n",
       "    </tr>\n",
       "    <tr>\n",
       "      <th>...</th>\n",
       "      <td>...</td>\n",
       "      <td>...</td>\n",
       "    </tr>\n",
       "    <tr>\n",
       "      <th>2093</th>\n",
       "      <td>5 stars</td>\n",
       "      <td>None</td>\n",
       "    </tr>\n",
       "    <tr>\n",
       "      <th>2094</th>\n",
       "      <td>5 stars</td>\n",
       "      <td>None</td>\n",
       "    </tr>\n",
       "    <tr>\n",
       "      <th>2095</th>\n",
       "      <td>5 stars</td>\n",
       "      <td>None</td>\n",
       "    </tr>\n",
       "    <tr>\n",
       "      <th>2096</th>\n",
       "      <td>1 star</td>\n",
       "      <td>None</td>\n",
       "    </tr>\n",
       "    <tr>\n",
       "      <th>2097</th>\n",
       "      <td>3 stars</td>\n",
       "      <td>None</td>\n",
       "    </tr>\n",
       "  </tbody>\n",
       "</table>\n",
       "<p>2098 rows × 2 columns</p>\n",
       "</div>"
      ],
      "text/plain": [
       "       Rating                                             Review\n",
       "0     5 stars  Best Multispecialty hospital in narhe near sin...\n",
       "1      1 star  Not good hospital. Very very very much waiting...\n",
       "2      1 star  Our patient got discharge 2 days before i expi...\n",
       "3     5 stars  As a Surgeon I will always recommend Aadhar Mu...\n",
       "4     5 stars  I am very  frequent visitor to this hospital f...\n",
       "...       ...                                                ...\n",
       "2093  5 stars                                               None\n",
       "2094  5 stars                                               None\n",
       "2095  5 stars                                               None\n",
       "2096   1 star                                               None\n",
       "2097  3 stars                                               None\n",
       "\n",
       "[2098 rows x 2 columns]"
      ]
     },
     "execution_count": 3,
     "metadata": {},
     "output_type": "execute_result"
    }
   ],
   "source": [
    "filenames = []\n",
    "for i in range(0, len(suburbs)):\n",
    "  filenames.append(\"./Reviews/\"+str(suburbs[i])+\"/reviews.csv\")\n",
    "  # filenames = [\n",
    "  #             \"./Reviews/ANUJA HOSPITAL/reviews.csv\",\n",
    "  #           ]\n",
    "\n",
    "# merging two csv files\n",
    "df = pd.concat(\n",
    "    map(pd.read_csv, filenames), ignore_index=True)\n",
    "\n",
    "print(len(df))\n",
    "df"
   ]
  },
  {
   "cell_type": "code",
   "execution_count": 4,
   "metadata": {},
   "outputs": [],
   "source": [
    "review_remove_translated = []\n",
    "\n",
    "reviews_dict = df.to_dict('list')\n",
    "\n",
    "for review in reviews_dict['Review']:\n",
    "  review_sep = str(review).split(\"(Translated by Google) \")\n",
    "  \n",
    "  # Jika terdapat (Translated by Google)\n",
    "  if review_sep[0] == \"\":\n",
    "    review_sep = (\"\".join(review_sep)).split(\"(Original)\")\n",
    "    review_sep = review_sep[0]\n",
    "    review = \"\".join(review_sep)\n",
    "  \n",
    "  review_remove_translated.append(review)"
   ]
  },
  {
   "cell_type": "code",
   "execution_count": 5,
   "metadata": {},
   "outputs": [
    {
     "data": {
      "text/html": [
       "<div>\n",
       "<style scoped>\n",
       "    .dataframe tbody tr th:only-of-type {\n",
       "        vertical-align: middle;\n",
       "    }\n",
       "\n",
       "    .dataframe tbody tr th {\n",
       "        vertical-align: top;\n",
       "    }\n",
       "\n",
       "    .dataframe thead th {\n",
       "        text-align: right;\n",
       "    }\n",
       "</style>\n",
       "<table border=\"1\" class=\"dataframe\">\n",
       "  <thead>\n",
       "    <tr style=\"text-align: right;\">\n",
       "      <th></th>\n",
       "      <th>Rating</th>\n",
       "      <th>Review</th>\n",
       "    </tr>\n",
       "  </thead>\n",
       "  <tbody>\n",
       "    <tr>\n",
       "      <th>0</th>\n",
       "      <td>5 stars</td>\n",
       "      <td>Best Multispecialty hospital in narhe near sin...</td>\n",
       "    </tr>\n",
       "    <tr>\n",
       "      <th>1</th>\n",
       "      <td>1 star</td>\n",
       "      <td>Not good hospital. Very very very much waiting...</td>\n",
       "    </tr>\n",
       "    <tr>\n",
       "      <th>2</th>\n",
       "      <td>1 star</td>\n",
       "      <td>Our patient got discharge 2 days before i expi...</td>\n",
       "    </tr>\n",
       "    <tr>\n",
       "      <th>3</th>\n",
       "      <td>5 stars</td>\n",
       "      <td>As a Surgeon I will always recommend Aadhar Mu...</td>\n",
       "    </tr>\n",
       "    <tr>\n",
       "      <th>4</th>\n",
       "      <td>5 stars</td>\n",
       "      <td>I am very  frequent visitor to this hospital f...</td>\n",
       "    </tr>\n",
       "    <tr>\n",
       "      <th>...</th>\n",
       "      <td>...</td>\n",
       "      <td>...</td>\n",
       "    </tr>\n",
       "    <tr>\n",
       "      <th>2093</th>\n",
       "      <td>5 stars</td>\n",
       "      <td>None</td>\n",
       "    </tr>\n",
       "    <tr>\n",
       "      <th>2094</th>\n",
       "      <td>5 stars</td>\n",
       "      <td>None</td>\n",
       "    </tr>\n",
       "    <tr>\n",
       "      <th>2095</th>\n",
       "      <td>5 stars</td>\n",
       "      <td>None</td>\n",
       "    </tr>\n",
       "    <tr>\n",
       "      <th>2096</th>\n",
       "      <td>1 star</td>\n",
       "      <td>None</td>\n",
       "    </tr>\n",
       "    <tr>\n",
       "      <th>2097</th>\n",
       "      <td>3 stars</td>\n",
       "      <td>None</td>\n",
       "    </tr>\n",
       "  </tbody>\n",
       "</table>\n",
       "<p>2098 rows × 2 columns</p>\n",
       "</div>"
      ],
      "text/plain": [
       "       Rating                                             Review\n",
       "0     5 stars  Best Multispecialty hospital in narhe near sin...\n",
       "1      1 star  Not good hospital. Very very very much waiting...\n",
       "2      1 star  Our patient got discharge 2 days before i expi...\n",
       "3     5 stars  As a Surgeon I will always recommend Aadhar Mu...\n",
       "4     5 stars  I am very  frequent visitor to this hospital f...\n",
       "...       ...                                                ...\n",
       "2093  5 stars                                               None\n",
       "2094  5 stars                                               None\n",
       "2095  5 stars                                               None\n",
       "2096   1 star                                               None\n",
       "2097  3 stars                                               None\n",
       "\n",
       "[2098 rows x 2 columns]"
      ]
     },
     "execution_count": 5,
     "metadata": {},
     "output_type": "execute_result"
    }
   ],
   "source": [
    "reviews_dict['Review'] = review_remove_translated\n",
    "df = pd.DataFrame(reviews_dict)\n",
    "df"
   ]
  },
  {
   "cell_type": "code",
   "execution_count": 6,
   "metadata": {},
   "outputs": [],
   "source": [
    "import string\n",
    "import re"
   ]
  },
  {
   "cell_type": "code",
   "execution_count": 7,
   "metadata": {},
   "outputs": [],
   "source": [
    "def clean_review(review):\n",
    "    return re.sub('[^a-zA-Z]', ' ', review).lower()\n",
    "  \n",
    "df['cleaned_review'] = df['Review'].apply(lambda x: clean_review(str(x)))\n",
    "df['label'] = df['Rating'].map({\"1 star\":0, \"2 stars\":0, \"3 stars\":0, \"4 stars\":1, \"5 stars\":1})"
   ]
  },
  {
   "cell_type": "code",
   "execution_count": 8,
   "metadata": {},
   "outputs": [
    {
     "data": {
      "text/html": [
       "<div>\n",
       "<style scoped>\n",
       "    .dataframe tbody tr th:only-of-type {\n",
       "        vertical-align: middle;\n",
       "    }\n",
       "\n",
       "    .dataframe tbody tr th {\n",
       "        vertical-align: top;\n",
       "    }\n",
       "\n",
       "    .dataframe thead th {\n",
       "        text-align: right;\n",
       "    }\n",
       "</style>\n",
       "<table border=\"1\" class=\"dataframe\">\n",
       "  <thead>\n",
       "    <tr style=\"text-align: right;\">\n",
       "      <th></th>\n",
       "      <th>Rating</th>\n",
       "      <th>Review</th>\n",
       "      <th>cleaned_review</th>\n",
       "      <th>label</th>\n",
       "      <th>review_len</th>\n",
       "      <th>punct</th>\n",
       "    </tr>\n",
       "  </thead>\n",
       "  <tbody>\n",
       "    <tr>\n",
       "      <th>0</th>\n",
       "      <td>5 stars</td>\n",
       "      <td>Best Multispecialty hospital in narhe near sin...</td>\n",
       "      <td>best multispecialty hospital in narhe near sin...</td>\n",
       "      <td>1</td>\n",
       "      <td>332</td>\n",
       "      <td>2.4</td>\n",
       "    </tr>\n",
       "    <tr>\n",
       "      <th>1</th>\n",
       "      <td>1 star</td>\n",
       "      <td>Not good hospital. Very very very much waiting...</td>\n",
       "      <td>not good hospital  very very very much waiting...</td>\n",
       "      <td>0</td>\n",
       "      <td>224</td>\n",
       "      <td>3.6</td>\n",
       "    </tr>\n",
       "    <tr>\n",
       "      <th>2</th>\n",
       "      <td>1 star</td>\n",
       "      <td>Our patient got discharge 2 days before i expi...</td>\n",
       "      <td>our patient got discharge   days before i expi...</td>\n",
       "      <td>0</td>\n",
       "      <td>394</td>\n",
       "      <td>2.8</td>\n",
       "    </tr>\n",
       "    <tr>\n",
       "      <th>3</th>\n",
       "      <td>5 stars</td>\n",
       "      <td>As a Surgeon I will always recommend Aadhar Mu...</td>\n",
       "      <td>as a surgeon i will always recommend aadhar mu...</td>\n",
       "      <td>1</td>\n",
       "      <td>319</td>\n",
       "      <td>5.3</td>\n",
       "    </tr>\n",
       "    <tr>\n",
       "      <th>4</th>\n",
       "      <td>5 stars</td>\n",
       "      <td>I am very  frequent visitor to this hospital f...</td>\n",
       "      <td>i am very  frequent visitor to this hospital f...</td>\n",
       "      <td>1</td>\n",
       "      <td>167</td>\n",
       "      <td>4.8</td>\n",
       "    </tr>\n",
       "    <tr>\n",
       "      <th>...</th>\n",
       "      <td>...</td>\n",
       "      <td>...</td>\n",
       "      <td>...</td>\n",
       "      <td>...</td>\n",
       "      <td>...</td>\n",
       "      <td>...</td>\n",
       "    </tr>\n",
       "    <tr>\n",
       "      <th>2093</th>\n",
       "      <td>5 stars</td>\n",
       "      <td>None</td>\n",
       "      <td>none</td>\n",
       "      <td>1</td>\n",
       "      <td>4</td>\n",
       "      <td>0.0</td>\n",
       "    </tr>\n",
       "    <tr>\n",
       "      <th>2094</th>\n",
       "      <td>5 stars</td>\n",
       "      <td>None</td>\n",
       "      <td>none</td>\n",
       "      <td>1</td>\n",
       "      <td>4</td>\n",
       "      <td>0.0</td>\n",
       "    </tr>\n",
       "    <tr>\n",
       "      <th>2095</th>\n",
       "      <td>5 stars</td>\n",
       "      <td>None</td>\n",
       "      <td>none</td>\n",
       "      <td>1</td>\n",
       "      <td>4</td>\n",
       "      <td>0.0</td>\n",
       "    </tr>\n",
       "    <tr>\n",
       "      <th>2096</th>\n",
       "      <td>1 star</td>\n",
       "      <td>None</td>\n",
       "      <td>none</td>\n",
       "      <td>0</td>\n",
       "      <td>4</td>\n",
       "      <td>0.0</td>\n",
       "    </tr>\n",
       "    <tr>\n",
       "      <th>2097</th>\n",
       "      <td>3 stars</td>\n",
       "      <td>None</td>\n",
       "      <td>none</td>\n",
       "      <td>0</td>\n",
       "      <td>4</td>\n",
       "      <td>0.0</td>\n",
       "    </tr>\n",
       "  </tbody>\n",
       "</table>\n",
       "<p>2098 rows × 6 columns</p>\n",
       "</div>"
      ],
      "text/plain": [
       "       Rating                                             Review  \\\n",
       "0     5 stars  Best Multispecialty hospital in narhe near sin...   \n",
       "1      1 star  Not good hospital. Very very very much waiting...   \n",
       "2      1 star  Our patient got discharge 2 days before i expi...   \n",
       "3     5 stars  As a Surgeon I will always recommend Aadhar Mu...   \n",
       "4     5 stars  I am very  frequent visitor to this hospital f...   \n",
       "...       ...                                                ...   \n",
       "2093  5 stars                                               None   \n",
       "2094  5 stars                                               None   \n",
       "2095  5 stars                                               None   \n",
       "2096   1 star                                               None   \n",
       "2097  3 stars                                               None   \n",
       "\n",
       "                                         cleaned_review  label  review_len  \\\n",
       "0     best multispecialty hospital in narhe near sin...      1         332   \n",
       "1     not good hospital  very very very much waiting...      0         224   \n",
       "2     our patient got discharge   days before i expi...      0         394   \n",
       "3     as a surgeon i will always recommend aadhar mu...      1         319   \n",
       "4     i am very  frequent visitor to this hospital f...      1         167   \n",
       "...                                                 ...    ...         ...   \n",
       "2093                                               none      1           4   \n",
       "2094                                               none      1           4   \n",
       "2095                                               none      1           4   \n",
       "2096                                               none      0           4   \n",
       "2097                                               none      0           4   \n",
       "\n",
       "      punct  \n",
       "0       2.4  \n",
       "1       3.6  \n",
       "2       2.8  \n",
       "3       5.3  \n",
       "4       4.8  \n",
       "...     ...  \n",
       "2093    0.0  \n",
       "2094    0.0  \n",
       "2095    0.0  \n",
       "2096    0.0  \n",
       "2097    0.0  \n",
       "\n",
       "[2098 rows x 6 columns]"
      ]
     },
     "execution_count": 8,
     "metadata": {},
     "output_type": "execute_result"
    }
   ],
   "source": [
    "def count_punct(review):\n",
    "    count = sum([1 for char in review if char in string.punctuation])\n",
    "    return round(count/(len(review) - review.count(\" \")), 3)*100\n",
    "  \n",
    "df['review_len'] = df['Review'].apply(lambda x: len(str(x)) - str(x).count(\" \"))\n",
    "df['punct'] = df['Review'].apply(lambda x: count_punct(str(x)))\n",
    "df"
   ]
  },
  {
   "cell_type": "code",
   "execution_count": 9,
   "metadata": {},
   "outputs": [
    {
     "data": {
      "text/html": [
       "<div>\n",
       "<style scoped>\n",
       "    .dataframe tbody tr th:only-of-type {\n",
       "        vertical-align: middle;\n",
       "    }\n",
       "\n",
       "    .dataframe tbody tr th {\n",
       "        vertical-align: top;\n",
       "    }\n",
       "\n",
       "    .dataframe thead th {\n",
       "        text-align: right;\n",
       "    }\n",
       "</style>\n",
       "<table border=\"1\" class=\"dataframe\">\n",
       "  <thead>\n",
       "    <tr style=\"text-align: right;\">\n",
       "      <th></th>\n",
       "      <th>Rating</th>\n",
       "      <th>Review</th>\n",
       "      <th>cleaned_review</th>\n",
       "      <th>label</th>\n",
       "      <th>review_len</th>\n",
       "      <th>punct</th>\n",
       "      <th>tokens</th>\n",
       "    </tr>\n",
       "  </thead>\n",
       "  <tbody>\n",
       "    <tr>\n",
       "      <th>0</th>\n",
       "      <td>5 stars</td>\n",
       "      <td>Best Multispecialty hospital in narhe near sin...</td>\n",
       "      <td>best multispecialty hospital in narhe near sin...</td>\n",
       "      <td>1</td>\n",
       "      <td>332</td>\n",
       "      <td>2.4</td>\n",
       "      <td>[best, multispecialty, hospital, in, narhe, ne...</td>\n",
       "    </tr>\n",
       "    <tr>\n",
       "      <th>1</th>\n",
       "      <td>1 star</td>\n",
       "      <td>Not good hospital. Very very very much waiting...</td>\n",
       "      <td>not good hospital  very very very much waiting...</td>\n",
       "      <td>0</td>\n",
       "      <td>224</td>\n",
       "      <td>3.6</td>\n",
       "      <td>[not, good, hospital, very, very, very, much, ...</td>\n",
       "    </tr>\n",
       "    <tr>\n",
       "      <th>2</th>\n",
       "      <td>1 star</td>\n",
       "      <td>Our patient got discharge 2 days before i expi...</td>\n",
       "      <td>our patient got discharge   days before i expi...</td>\n",
       "      <td>0</td>\n",
       "      <td>394</td>\n",
       "      <td>2.8</td>\n",
       "      <td>[our, patient, got, discharge, days, before, i...</td>\n",
       "    </tr>\n",
       "    <tr>\n",
       "      <th>3</th>\n",
       "      <td>5 stars</td>\n",
       "      <td>As a Surgeon I will always recommend Aadhar Mu...</td>\n",
       "      <td>as a surgeon i will always recommend aadhar mu...</td>\n",
       "      <td>1</td>\n",
       "      <td>319</td>\n",
       "      <td>5.3</td>\n",
       "      <td>[as, a, surgeon, i, will, always, recommend, a...</td>\n",
       "    </tr>\n",
       "    <tr>\n",
       "      <th>4</th>\n",
       "      <td>5 stars</td>\n",
       "      <td>I am very  frequent visitor to this hospital f...</td>\n",
       "      <td>i am very  frequent visitor to this hospital f...</td>\n",
       "      <td>1</td>\n",
       "      <td>167</td>\n",
       "      <td>4.8</td>\n",
       "      <td>[i, am, very, frequent, visitor, to, this, hos...</td>\n",
       "    </tr>\n",
       "  </tbody>\n",
       "</table>\n",
       "</div>"
      ],
      "text/plain": [
       "    Rating                                             Review  \\\n",
       "0  5 stars  Best Multispecialty hospital in narhe near sin...   \n",
       "1   1 star  Not good hospital. Very very very much waiting...   \n",
       "2   1 star  Our patient got discharge 2 days before i expi...   \n",
       "3  5 stars  As a Surgeon I will always recommend Aadhar Mu...   \n",
       "4  5 stars  I am very  frequent visitor to this hospital f...   \n",
       "\n",
       "                                      cleaned_review  label  review_len  \\\n",
       "0  best multispecialty hospital in narhe near sin...      1         332   \n",
       "1  not good hospital  very very very much waiting...      0         224   \n",
       "2  our patient got discharge   days before i expi...      0         394   \n",
       "3  as a surgeon i will always recommend aadhar mu...      1         319   \n",
       "4  i am very  frequent visitor to this hospital f...      1         167   \n",
       "\n",
       "   punct                                             tokens  \n",
       "0    2.4  [best, multispecialty, hospital, in, narhe, ne...  \n",
       "1    3.6  [not, good, hospital, very, very, very, much, ...  \n",
       "2    2.8  [our, patient, got, discharge, days, before, i...  \n",
       "3    5.3  [as, a, surgeon, i, will, always, recommend, a...  \n",
       "4    4.8  [i, am, very, frequent, visitor, to, this, hos...  "
      ]
     },
     "execution_count": 9,
     "metadata": {},
     "output_type": "execute_result"
    }
   ],
   "source": [
    "def tokenize_review(review):\n",
    "    tokenized_review = review.split()\n",
    "    return tokenized_review\n",
    "  \n",
    "df['tokens'] = df['cleaned_review'].apply(lambda x: tokenize_review(x))\n",
    "df.head()"
   ]
  },
  {
   "cell_type": "code",
   "execution_count": 10,
   "metadata": {},
   "outputs": [],
   "source": [
    "import nltk\n",
    "from nltk.corpus import stopwords\n",
    "all_stopwords = stopwords.words('english')\n",
    "all_stopwords.remove('not')"
   ]
  },
  {
   "cell_type": "code",
   "execution_count": 11,
   "metadata": {},
   "outputs": [
    {
     "data": {
      "text/html": [
       "<div>\n",
       "<style scoped>\n",
       "    .dataframe tbody tr th:only-of-type {\n",
       "        vertical-align: middle;\n",
       "    }\n",
       "\n",
       "    .dataframe tbody tr th {\n",
       "        vertical-align: top;\n",
       "    }\n",
       "\n",
       "    .dataframe thead th {\n",
       "        text-align: right;\n",
       "    }\n",
       "</style>\n",
       "<table border=\"1\" class=\"dataframe\">\n",
       "  <thead>\n",
       "    <tr style=\"text-align: right;\">\n",
       "      <th></th>\n",
       "      <th>Rating</th>\n",
       "      <th>Review</th>\n",
       "      <th>cleaned_review</th>\n",
       "      <th>label</th>\n",
       "      <th>review_len</th>\n",
       "      <th>punct</th>\n",
       "      <th>tokens</th>\n",
       "      <th>lemmatized_review</th>\n",
       "    </tr>\n",
       "  </thead>\n",
       "  <tbody>\n",
       "    <tr>\n",
       "      <th>0</th>\n",
       "      <td>5 stars</td>\n",
       "      <td>Best Multispecialty hospital in narhe near sin...</td>\n",
       "      <td>best multispecialty hospital in narhe near sin...</td>\n",
       "      <td>1</td>\n",
       "      <td>332</td>\n",
       "      <td>2.4</td>\n",
       "      <td>[best, multispecialty, hospital, in, narhe, ne...</td>\n",
       "      <td>best multispecialty hospital narhe near sinhga...</td>\n",
       "    </tr>\n",
       "    <tr>\n",
       "      <th>1</th>\n",
       "      <td>1 star</td>\n",
       "      <td>Not good hospital. Very very very much waiting...</td>\n",
       "      <td>not good hospital  very very very much waiting...</td>\n",
       "      <td>0</td>\n",
       "      <td>224</td>\n",
       "      <td>3.6</td>\n",
       "      <td>[not, good, hospital, very, very, very, much, ...</td>\n",
       "      <td>not good hospital much waiting report collecti...</td>\n",
       "    </tr>\n",
       "    <tr>\n",
       "      <th>2</th>\n",
       "      <td>1 star</td>\n",
       "      <td>Our patient got discharge 2 days before i expi...</td>\n",
       "      <td>our patient got discharge   days before i expi...</td>\n",
       "      <td>0</td>\n",
       "      <td>394</td>\n",
       "      <td>2.8</td>\n",
       "      <td>[our, patient, got, discharge, days, before, i...</td>\n",
       "      <td>patient got discharge day expirienced followin...</td>\n",
       "    </tr>\n",
       "    <tr>\n",
       "      <th>3</th>\n",
       "      <td>5 stars</td>\n",
       "      <td>As a Surgeon I will always recommend Aadhar Mu...</td>\n",
       "      <td>as a surgeon i will always recommend aadhar mu...</td>\n",
       "      <td>1</td>\n",
       "      <td>319</td>\n",
       "      <td>5.3</td>\n",
       "      <td>[as, a, surgeon, i, will, always, recommend, a...</td>\n",
       "      <td>surgeon always recommend aadhar multispecialty...</td>\n",
       "    </tr>\n",
       "    <tr>\n",
       "      <th>4</th>\n",
       "      <td>5 stars</td>\n",
       "      <td>I am very  frequent visitor to this hospital f...</td>\n",
       "      <td>i am very  frequent visitor to this hospital f...</td>\n",
       "      <td>1</td>\n",
       "      <td>167</td>\n",
       "      <td>4.8</td>\n",
       "      <td>[i, am, very, frequent, visitor, to, this, hos...</td>\n",
       "      <td>frequent visitor hospital wife treatment docto...</td>\n",
       "    </tr>\n",
       "  </tbody>\n",
       "</table>\n",
       "</div>"
      ],
      "text/plain": [
       "    Rating                                             Review  \\\n",
       "0  5 stars  Best Multispecialty hospital in narhe near sin...   \n",
       "1   1 star  Not good hospital. Very very very much waiting...   \n",
       "2   1 star  Our patient got discharge 2 days before i expi...   \n",
       "3  5 stars  As a Surgeon I will always recommend Aadhar Mu...   \n",
       "4  5 stars  I am very  frequent visitor to this hospital f...   \n",
       "\n",
       "                                      cleaned_review  label  review_len  \\\n",
       "0  best multispecialty hospital in narhe near sin...      1         332   \n",
       "1  not good hospital  very very very much waiting...      0         224   \n",
       "2  our patient got discharge   days before i expi...      0         394   \n",
       "3  as a surgeon i will always recommend aadhar mu...      1         319   \n",
       "4  i am very  frequent visitor to this hospital f...      1         167   \n",
       "\n",
       "   punct                                             tokens  \\\n",
       "0    2.4  [best, multispecialty, hospital, in, narhe, ne...   \n",
       "1    3.6  [not, good, hospital, very, very, very, much, ...   \n",
       "2    2.8  [our, patient, got, discharge, days, before, i...   \n",
       "3    5.3  [as, a, surgeon, i, will, always, recommend, a...   \n",
       "4    4.8  [i, am, very, frequent, visitor, to, this, hos...   \n",
       "\n",
       "                                   lemmatized_review  \n",
       "0  best multispecialty hospital narhe near sinhga...  \n",
       "1  not good hospital much waiting report collecti...  \n",
       "2  patient got discharge day expirienced followin...  \n",
       "3  surgeon always recommend aadhar multispecialty...  \n",
       "4  frequent visitor hospital wife treatment docto...  "
      ]
     },
     "execution_count": 11,
     "metadata": {},
     "output_type": "execute_result"
    }
   ],
   "source": [
    "def lemmatize_review(token_list):\n",
    "    return \" \".join([lemmatizer.lemmatize(token) for token in token_list if not token in set(all_stopwords)])\n",
    "\n",
    "lemmatizer = nltk.stem.WordNetLemmatizer()\n",
    "df['lemmatized_review'] = df['tokens'].apply(lambda x: lemmatize_review(x))\n",
    "df.head()"
   ]
  },
  {
   "cell_type": "code",
   "execution_count": 12,
   "metadata": {},
   "outputs": [
    {
     "name": "stdout",
     "output_type": "stream",
     "text": [
      "Input data has 2098 rows and 8 columns\n"
     ]
    }
   ],
   "source": [
    "#  Shape of the dataset, and breakdown of the classes\n",
    "print(f\"Input data has { len(df) } rows and { len(df.columns) } columns\")"
   ]
  },
  {
   "cell_type": "code",
   "execution_count": 13,
   "metadata": {},
   "outputs": [
    {
     "name": "stdout",
     "output_type": "stream",
     "text": [
      "Number of null in label: 0\n",
      "Number of null in text: 0\n"
     ]
    },
    {
     "data": {
      "image/png": "[encoded data removed]",
      "text/plain": [
       "<Figure size 432x288 with 1 Axes>"
      ]
     },
     "metadata": {},
     "output_type": "display_data"
    }
   ],
   "source": [
    "print(f\"Number of null in label: { df['Rating'].isnull().sum() }\")\n",
    "print(f\"Number of null in text: { df['Review'].isnull().sum() }\")\n",
    "sns.countplot(x='Rating', data=df);"
   ]
  },
  {
   "cell_type": "code",
   "execution_count": 14,
   "metadata": {},
   "outputs": [
    {
     "name": "stdout",
     "output_type": "stream",
     "text": [
      "(2098, 3)\n",
      "(2098,)\n"
     ]
    }
   ],
   "source": [
    "X = df[['lemmatized_review', 'review_len', 'punct']]\n",
    "y = df['label']\n",
    "print(X.shape)\n",
    "print(y.shape)"
   ]
  },
  {
   "cell_type": "code",
   "execution_count": 15,
   "metadata": {},
   "outputs": [
    {
     "name": "stdout",
     "output_type": "stream",
     "text": [
      "(1468, 3)\n",
      "(630, 3)\n",
      "(1468,)\n",
      "(630,)\n"
     ]
    }
   ],
   "source": [
    "from sklearn.model_selection import train_test_split\n",
    "X_train, X_test, y_train, y_test = train_test_split(X, y, test_size = 0.3, random_state = 0)\n",
    "print(X_train.shape)\n",
    "print(X_test.shape)\n",
    "print(y_train.shape)\n",
    "print(y_test.shape)"
   ]
  },
  {
   "cell_type": "code",
   "execution_count": 16,
   "metadata": {},
   "outputs": [
    {
     "data": {
      "text/html": [
       "<div>\n",
       "<style scoped>\n",
       "    .dataframe tbody tr th:only-of-type {\n",
       "        vertical-align: middle;\n",
       "    }\n",
       "\n",
       "    .dataframe tbody tr th {\n",
       "        vertical-align: top;\n",
       "    }\n",
       "\n",
       "    .dataframe thead th {\n",
       "        text-align: right;\n",
       "    }\n",
       "</style>\n",
       "<table border=\"1\" class=\"dataframe\">\n",
       "  <thead>\n",
       "    <tr style=\"text-align: right;\">\n",
       "      <th></th>\n",
       "      <th>review_len</th>\n",
       "      <th>punct</th>\n",
       "      <th>0</th>\n",
       "      <th>1</th>\n",
       "      <th>2</th>\n",
       "      <th>3</th>\n",
       "      <th>4</th>\n",
       "      <th>5</th>\n",
       "      <th>6</th>\n",
       "      <th>7</th>\n",
       "      <th>...</th>\n",
       "      <th>1189</th>\n",
       "      <th>1190</th>\n",
       "      <th>1191</th>\n",
       "      <th>1192</th>\n",
       "      <th>1193</th>\n",
       "      <th>1194</th>\n",
       "      <th>1195</th>\n",
       "      <th>1196</th>\n",
       "      <th>1197</th>\n",
       "      <th>1198</th>\n",
       "    </tr>\n",
       "  </thead>\n",
       "  <tbody>\n",
       "    <tr>\n",
       "      <th>0</th>\n",
       "      <td>560</td>\n",
       "      <td>2.1</td>\n",
       "      <td>0.0</td>\n",
       "      <td>0.0</td>\n",
       "      <td>0.0</td>\n",
       "      <td>0.000000</td>\n",
       "      <td>0.0</td>\n",
       "      <td>0.0</td>\n",
       "      <td>0.0</td>\n",
       "      <td>0.0</td>\n",
       "      <td>...</td>\n",
       "      <td>0.0</td>\n",
       "      <td>0.0</td>\n",
       "      <td>0.0</td>\n",
       "      <td>0.0</td>\n",
       "      <td>0.0</td>\n",
       "      <td>0.0</td>\n",
       "      <td>0.0</td>\n",
       "      <td>0.0</td>\n",
       "      <td>0.0</td>\n",
       "      <td>0.0</td>\n",
       "    </tr>\n",
       "    <tr>\n",
       "      <th>1</th>\n",
       "      <td>64</td>\n",
       "      <td>4.7</td>\n",
       "      <td>0.0</td>\n",
       "      <td>0.0</td>\n",
       "      <td>0.0</td>\n",
       "      <td>0.451355</td>\n",
       "      <td>0.0</td>\n",
       "      <td>0.0</td>\n",
       "      <td>0.0</td>\n",
       "      <td>0.0</td>\n",
       "      <td>...</td>\n",
       "      <td>0.0</td>\n",
       "      <td>0.0</td>\n",
       "      <td>0.0</td>\n",
       "      <td>0.0</td>\n",
       "      <td>0.0</td>\n",
       "      <td>0.0</td>\n",
       "      <td>0.0</td>\n",
       "      <td>0.0</td>\n",
       "      <td>0.0</td>\n",
       "      <td>0.0</td>\n",
       "    </tr>\n",
       "    <tr>\n",
       "      <th>2</th>\n",
       "      <td>283</td>\n",
       "      <td>5.7</td>\n",
       "      <td>0.0</td>\n",
       "      <td>0.0</td>\n",
       "      <td>0.0</td>\n",
       "      <td>0.000000</td>\n",
       "      <td>0.0</td>\n",
       "      <td>0.0</td>\n",
       "      <td>0.0</td>\n",
       "      <td>0.0</td>\n",
       "      <td>...</td>\n",
       "      <td>0.0</td>\n",
       "      <td>0.0</td>\n",
       "      <td>0.0</td>\n",
       "      <td>0.0</td>\n",
       "      <td>0.0</td>\n",
       "      <td>0.0</td>\n",
       "      <td>0.0</td>\n",
       "      <td>0.0</td>\n",
       "      <td>0.0</td>\n",
       "      <td>0.0</td>\n",
       "    </tr>\n",
       "    <tr>\n",
       "      <th>3</th>\n",
       "      <td>195</td>\n",
       "      <td>2.6</td>\n",
       "      <td>0.0</td>\n",
       "      <td>0.0</td>\n",
       "      <td>0.0</td>\n",
       "      <td>0.000000</td>\n",
       "      <td>0.0</td>\n",
       "      <td>0.0</td>\n",
       "      <td>0.0</td>\n",
       "      <td>0.0</td>\n",
       "      <td>...</td>\n",
       "      <td>0.0</td>\n",
       "      <td>0.0</td>\n",
       "      <td>0.0</td>\n",
       "      <td>0.0</td>\n",
       "      <td>0.0</td>\n",
       "      <td>0.0</td>\n",
       "      <td>0.0</td>\n",
       "      <td>0.0</td>\n",
       "      <td>0.0</td>\n",
       "      <td>0.0</td>\n",
       "    </tr>\n",
       "    <tr>\n",
       "      <th>4</th>\n",
       "      <td>11</td>\n",
       "      <td>0.0</td>\n",
       "      <td>0.0</td>\n",
       "      <td>0.0</td>\n",
       "      <td>0.0</td>\n",
       "      <td>0.000000</td>\n",
       "      <td>0.0</td>\n",
       "      <td>0.0</td>\n",
       "      <td>0.0</td>\n",
       "      <td>0.0</td>\n",
       "      <td>...</td>\n",
       "      <td>0.0</td>\n",
       "      <td>0.0</td>\n",
       "      <td>0.0</td>\n",
       "      <td>0.0</td>\n",
       "      <td>0.0</td>\n",
       "      <td>0.0</td>\n",
       "      <td>0.0</td>\n",
       "      <td>0.0</td>\n",
       "      <td>0.0</td>\n",
       "      <td>0.0</td>\n",
       "    </tr>\n",
       "  </tbody>\n",
       "</table>\n",
       "<p>5 rows × 1201 columns</p>\n",
       "</div>"
      ],
      "text/plain": [
       "   review_len  punct    0    1    2         3    4    5    6    7  ...  1189  \\\n",
       "0         560    2.1  0.0  0.0  0.0  0.000000  0.0  0.0  0.0  0.0  ...   0.0   \n",
       "1          64    4.7  0.0  0.0  0.0  0.451355  0.0  0.0  0.0  0.0  ...   0.0   \n",
       "2         283    5.7  0.0  0.0  0.0  0.000000  0.0  0.0  0.0  0.0  ...   0.0   \n",
       "3         195    2.6  0.0  0.0  0.0  0.000000  0.0  0.0  0.0  0.0  ...   0.0   \n",
       "4          11    0.0  0.0  0.0  0.0  0.000000  0.0  0.0  0.0  0.0  ...   0.0   \n",
       "\n",
       "   1190  1191  1192  1193  1194  1195  1196  1197  1198  \n",
       "0   0.0   0.0   0.0   0.0   0.0   0.0   0.0   0.0   0.0  \n",
       "1   0.0   0.0   0.0   0.0   0.0   0.0   0.0   0.0   0.0  \n",
       "2   0.0   0.0   0.0   0.0   0.0   0.0   0.0   0.0   0.0  \n",
       "3   0.0   0.0   0.0   0.0   0.0   0.0   0.0   0.0   0.0  \n",
       "4   0.0   0.0   0.0   0.0   0.0   0.0   0.0   0.0   0.0  \n",
       "\n",
       "[5 rows x 1201 columns]"
      ]
     },
     "execution_count": 16,
     "metadata": {},
     "output_type": "execute_result"
    }
   ],
   "source": [
    "from sklearn.feature_extraction.text import TfidfVectorizer\n",
    "tfidf = TfidfVectorizer(max_df = 0.5, min_df = 2) # ignore terms that occur in more than 50% documents and the ones that occur in less than 2\n",
    "tfidf_train = tfidf.fit_transform(X_train['lemmatized_review'])\n",
    "tfidf_test = tfidf.transform(X_test['lemmatized_review'])\n",
    "\n",
    "X_train_vect = pd.concat([X_train[['review_len', 'punct']].reset_index(drop=True), \n",
    "           pd.DataFrame(tfidf_train.toarray())], axis=1)\n",
    "X_test_vect = pd.concat([X_test[['review_len', 'punct']].reset_index(drop=True), \n",
    "           pd.DataFrame(tfidf_test.toarray())], axis=1)\n",
    "\n",
    "X_train_vect.head()"
   ]
  },
  {
   "cell_type": "code",
   "execution_count": 17,
   "metadata": {},
   "outputs": [],
   "source": [
    "from sklearn.metrics import classification_report\n",
    "from sklearn.metrics import confusion_matrix"
   ]
  },
  {
   "cell_type": "code",
   "execution_count": 18,
   "metadata": {},
   "outputs": [
    {
     "name": "stdout",
     "output_type": "stream",
     "text": [
      "              precision    recall  f1-score   support\n",
      "\n",
      "           0       0.92      0.50      0.65       160\n",
      "           1       0.85      0.99      0.91       470\n",
      "\n",
      "    accuracy                           0.86       630\n",
      "   macro avg       0.89      0.74      0.78       630\n",
      "weighted avg       0.87      0.86      0.85       630\n",
      "\n"
     ]
    },
    {
     "data": {
      "image/png": "[encoded data removed]",
      "text/plain": [
       "<Figure size 432x288 with 2 Axes>"
      ]
     },
     "metadata": {},
     "output_type": "display_data"
    }
   ],
   "source": [
    "from sklearn.naive_bayes import MultinomialNB\n",
    "classifier = MultinomialNB()\n",
    "classifier.fit(X_train_vect, y_train)\n",
    "naive_bayes_pred = classifier.predict(X_test_vect)\n",
    "\n",
    "# Classification Report\n",
    "print(classification_report(y_test, naive_bayes_pred))\n",
    "\n",
    "# Confusion Matrix\n",
    "class_label = [\"negative\", \"positive\"]\n",
    "df_cm = pd.DataFrame(confusion_matrix(y_test, naive_bayes_pred), index=class_label, columns=class_label)\n",
    "sns.heatmap(df_cm, annot=True, fmt='d')\n",
    "plt.title(\"Confusion Matrix\")\n",
    "plt.xlabel(\"Predicted Label\")\n",
    "plt.ylabel(\"True Label\")\n",
    "plt.show()"
   ]
  },
  {
   "cell_type": "code",
   "execution_count": 19,
   "metadata": {},
   "outputs": [
    {
     "name": "stdout",
     "output_type": "stream",
     "text": [
      "              precision    recall  f1-score   support\n",
      "\n",
      "           0       0.94      0.59      0.73       160\n",
      "           1       0.88      0.99      0.93       470\n",
      "\n",
      "    accuracy                           0.89       630\n",
      "   macro avg       0.91      0.79      0.83       630\n",
      "weighted avg       0.89      0.89      0.88       630\n",
      "\n"
     ]
    },
    {
     "data": {
      "image/png": "[encoded data removed]",
      "text/plain": [
       "<Figure size 432x288 with 2 Axes>"
      ]
     },
     "metadata": {},
     "output_type": "display_data"
    }
   ],
   "source": [
    "from sklearn.ensemble import RandomForestClassifier\n",
    "classifier = RandomForestClassifier(n_estimators=150)\n",
    "classifier.fit(X_train_vect, y_train)\n",
    "random_forest_pred = classifier.predict(X_test_vect)\n",
    "\n",
    "# Classification report\n",
    "print(classification_report(y_test, random_forest_pred))\n",
    "\n",
    "# Confusion Matrix\n",
    "class_label = [\"negative\", \"positive\"]\n",
    "df_cm = pd.DataFrame(confusion_matrix(y_test, random_forest_pred), index=class_label, columns=class_label)\n",
    "sns.heatmap(df_cm, annot=True, fmt='d')\n",
    "plt.title(\"Confusion Matrix\")\n",
    "plt.xlabel(\"Predicted Label\")\n",
    "plt.ylabel(\"True Label\")\n",
    "plt.show()"
   ]
  },
  {
   "cell_type": "code",
   "execution_count": 20,
   "metadata": {},
   "outputs": [
    {
     "name": "stdout",
     "output_type": "stream",
     "text": [
      "              precision    recall  f1-score   support\n",
      "\n",
      "           0       0.99      0.53      0.69       160\n",
      "           1       0.86      1.00      0.92       470\n",
      "\n",
      "    accuracy                           0.88       630\n",
      "   macro avg       0.92      0.76      0.80       630\n",
      "weighted avg       0.89      0.88      0.86       630\n",
      "\n"
     ]
    },
    {
     "data": {
      "image/png": "[encoded data removed]",
      "text/plain": [
       "<Figure size 432x288 with 2 Axes>"
      ]
     },
     "metadata": {},
     "output_type": "display_data"
    }
   ],
   "source": [
    "from sklearn.linear_model import LogisticRegression\n",
    "classifier = LogisticRegression()\n",
    "classifier.fit(X_train_vect, y_train)\n",
    "log_reg_pred = classifier.predict(X_test_vect)\n",
    "# Classification report\n",
    "print(classification_report(y_test, log_reg_pred))\n",
    "\n",
    "# Confusion Matrix\n",
    "class_label = [\"negative\", \"positive\"]\n",
    "df_cm = pd.DataFrame(confusion_matrix(y_test, log_reg_pred), index=class_label, columns=class_label)\n",
    "sns.heatmap(df_cm, annot=True, fmt='d')\n",
    "plt.title(\"Confusion Matrix\")\n",
    "plt.xlabel(\"Predicted Label\")\n",
    "plt.ylabel(\"True Label\")\n",
    "plt.show()"
   ]
  },
  {
   "cell_type": "code",
   "execution_count": 21,
   "metadata": {},
   "outputs": [
    {
     "name": "stdout",
     "output_type": "stream",
     "text": [
      "              precision    recall  f1-score   support\n",
      "\n",
      "           0       0.97      0.59      0.74       160\n",
      "           1       0.88      0.99      0.93       470\n",
      "\n",
      "    accuracy                           0.89       630\n",
      "   macro avg       0.92      0.79      0.83       630\n",
      "weighted avg       0.90      0.89      0.88       630\n",
      "\n"
     ]
    },
    {
     "data": {
      "image/png": "[encoded data removed]",
      "text/plain": [
       "<Figure size 432x288 with 2 Axes>"
      ]
     },
     "metadata": {},
     "output_type": "display_data"
    }
   ],
   "source": [
    "from sklearn.svm import SVC\n",
    "classifier = SVC(kernel = 'linear', random_state = 0)\n",
    "classifier.fit(X_train_vect, y_train)\n",
    "svm_pred = classifier.predict(X_test_vect)\n",
    "# Classification report\n",
    "print(classification_report(y_test, svm_pred))\n",
    "\n",
    "# Confusion Matrix\n",
    "class_label = [\"negative\", \"positive\"]\n",
    "df_cm = pd.DataFrame(confusion_matrix(y_test, svm_pred), index=class_label, columns=class_label)\n",
    "sns.heatmap(df_cm, annot=True, fmt='d')\n",
    "plt.title(\"Confusion Matrix\")\n",
    "plt.xlabel(\"Predicted Label\")\n",
    "plt.ylabel(\"True Label\")\n",
    "plt.show()"
   ]
  },
  {
   "cell_type": "code",
   "execution_count": 22,
   "metadata": {},
   "outputs": [
    {
     "name": "stdout",
     "output_type": "stream",
     "text": [
      "              precision    recall  f1-score   support\n",
      "\n",
      "           0       0.33      0.11      0.17       160\n",
      "           1       0.75      0.92      0.83       470\n",
      "\n",
      "    accuracy                           0.72       630\n",
      "   macro avg       0.54      0.52      0.50       630\n",
      "weighted avg       0.65      0.72      0.66       630\n",
      "\n"
     ]
    },
    {
     "data": {
      "image/png": "[encoded data removed]",
      "text/plain": [
       "<Figure size 432x288 with 2 Axes>"
      ]
     },
     "metadata": {},
     "output_type": "display_data"
    }
   ],
   "source": [
    "from sklearn.neighbors import KNeighborsClassifier\n",
    "classifier = KNeighborsClassifier(n_neighbors = 5)\n",
    "classifier.fit(X_train_vect, y_train)\n",
    "knn_pred = classifier.predict(X_test_vect)\n",
    "\n",
    "# Classification report\n",
    "print(classification_report(y_test, knn_pred))\n",
    "\n",
    "# Confusion Matrix\n",
    "class_label = [\"negative\", \"positive\"]\n",
    "df_cm = pd.DataFrame(confusion_matrix(y_test, knn_pred), index=class_label, columns=class_label)\n",
    "sns.heatmap(df_cm, annot=True, fmt='d')\n",
    "plt.title(\"Confusion Matrix\")\n",
    "plt.xlabel(\"Predicted Label\")\n",
    "plt.ylabel(\"True Label\")\n",
    "plt.show()"
   ]
  },
  {
   "cell_type": "code",
   "execution_count": 23,
   "metadata": {},
   "outputs": [
    {
     "name": "stdout",
     "output_type": "stream",
     "text": [
      "              precision    recall  f1-score   support\n",
      "\n",
      "           0       0.95      0.62      0.75       160\n",
      "           1       0.88      0.99      0.93       470\n",
      "\n",
      "    accuracy                           0.90       630\n",
      "   macro avg       0.92      0.80      0.84       630\n",
      "weighted avg       0.90      0.90      0.89       630\n",
      "\n"
     ]
    },
    {
     "data": {
      "image/png": "[encoded data removed]",
      "text/plain": [
       "<Figure size 432x288 with 2 Axes>"
      ]
     },
     "metadata": {},
     "output_type": "display_data"
    }
   ],
   "source": [
    "from sklearn.ensemble import ExtraTreesClassifier\n",
    "classifier = ExtraTreesClassifier(n_estimators=150, random_state=50)\n",
    "classifier.fit(X_train_vect, y_train)\n",
    "extra_trees_pred = classifier.predict(X_test_vect)\n",
    "\n",
    "# Classification report\n",
    "print(classification_report(y_test, extra_trees_pred))\n",
    "\n",
    "# Confusion Matrix\n",
    "class_label = [\"negative\", \"positive\"]\n",
    "df_cm = pd.DataFrame(confusion_matrix(y_test, extra_trees_pred), index=class_label, columns=class_label)\n",
    "sns.heatmap(df_cm, annot=True, fmt='d')\n",
    "plt.title(\"Confusion Matrix\")\n",
    "plt.xlabel(\"Predicted Label\")\n",
    "plt.ylabel(\"True Label\")\n",
    "plt.show()"
   ]
  },
  {
   "cell_type": "code",
   "execution_count": 68,
   "metadata": {},
   "outputs": [
    {
     "name": "stdout",
     "output_type": "stream",
     "text": [
      "Naive Bayes\n",
      " accuracy - 0.8508107352530054 \n",
      " precision - 0.8532279902201971 \n",
      " recall - 0.974382859804378 \n",
      " f1 - 0.9096569733351887 \n",
      "\n",
      "Logistic Regression\n",
      " accuracy - 0.8794240984064858 \n",
      " precision - 0.8690413653053527 \n",
      " recall - 0.9938053097345133 \n",
      " f1 - 0.9271273016458901 \n",
      "\n",
      "Random Forest\n",
      " accuracy - 0.8800997111173237 \n",
      " precision - 0.8781080545472049 \n",
      " recall - 0.9814314547430522 \n",
      " f1 - 0.9255546181213516 \n",
      "\n",
      "SVM\n",
      " accuracy - 0.8910073618488491 \n"
     ]
    }
   ],
   "source": [
    "from sklearn.model_selection import cross_val_score\n",
    "\n",
    "models = [\n",
    "          MultinomialNB(),\n",
    "          LogisticRegression(),\n",
    "          RandomForestClassifier(n_estimators = 150),\n",
    "          SVC(kernel = 'linear'),\n",
    "          KNeighborsClassifier(n_neighbors = 5),\n",
    "          ExtraTreesClassifier(n_estimators=150, random_state=50)\n",
    "         ]\n",
    "names = [\"Naive Bayes\", \"Logistic Regression\", \"Random Forest\", \"SVM\", \"KNN\", \"Extra Trees\"]\n",
    "for model, name in zip(models, names):\n",
    "    print(name)\n",
    "    for score in [\"accuracy\", \"precision\", \"recall\", \"f1\"]:\n",
    "        print(f\" {score} - {cross_val_score(model, X_train_vect, y_train, scoring=score, cv=10).mean()} \")\n",
    "    print()"
   ]
  },
  {
   "cell_type": "code",
   "execution_count": 24,
   "metadata": {},
   "outputs": [
    {
     "data": {
      "text/plain": [
       "0.8888888888888888"
      ]
     },
     "execution_count": 24,
     "metadata": {},
     "output_type": "execute_result"
    }
   ],
   "source": [
    "from sklearn.svm import SVC\n",
    "classifier = SVC(kernel = 'linear', random_state = 10)\n",
    "# from sklearn.ensemble import ExtraTreesClassifier\n",
    "# classifier = ExtraTreesClassifier(n_estimators=150, random_state=50)\n",
    "\n",
    "classifier.fit(tfidf_train, y_train)\n",
    "classifier.score(tfidf_test, y_test)"
   ]
  },
  {
   "cell_type": "code",
   "execution_count": 34,
   "metadata": {},
   "outputs": [
    {
     "name": "stdout",
     "output_type": "stream",
     "text": [
      "[0 1 1 0]\n"
     ]
    }
   ],
   "source": [
    "data = [\"Bad\", \"Good\", \"I love the service, it's really good\", \"Worst\"]\n",
    "vect = tfidf.transform(data).toarray()\n",
    "\n",
    "my_pred = classifier.predict(vect)\n",
    "print(my_pred)"
   ]
  },
  {
   "cell_type": "code",
   "execution_count": 35,
   "metadata": {},
   "outputs": [],
   "source": [
    "from sklearn.feature_extraction.text import CountVectorizer\n",
    "cv = CountVectorizer()\n",
    "X_cv = cv.fit_transform(df['lemmatized_review']) # Fit the Data\n",
    "y_cv = df['label']\n",
    "\n",
    "from sklearn.model_selection import train_test_split\n",
    "X_train_cv, X_test_cv, y_train_cv, y_test_cv = train_test_split(X_cv, y_cv, test_size=0.3, random_state=42)"
   ]
  },
  {
   "cell_type": "code",
   "execution_count": 36,
   "metadata": {},
   "outputs": [
    {
     "data": {
      "text/plain": [
       "0.8984126984126984"
      ]
     },
     "execution_count": 36,
     "metadata": {},
     "output_type": "execute_result"
    }
   ],
   "source": [
    "#Naive Bayes Classifier\n",
    "from sklearn.naive_bayes import MultinomialNB\n",
    "clf = MultinomialNB()\n",
    "\n",
    "clf.fit(X_train_cv, y_train_cv)\n",
    "clf.score(X_test_cv, y_test_cv)\n"
   ]
  },
  {
   "cell_type": "code",
   "execution_count": 37,
   "metadata": {},
   "outputs": [
    {
     "name": "stdout",
     "output_type": "stream",
     "text": [
      "[0 1 0 1]\n"
     ]
    }
   ],
   "source": [
    "data = [\"Bad\", \"Good\", \"I hate the service, it's really bad\", \"The nurse is so kind\"]\n",
    "vect = cv.transform(data).toarray()\n",
    "\n",
    "my_prediction = clf.predict(vect)\n",
    "print(my_prediction)"
   ]
  }
 ],
 "metadata": {
  "kernelspec": {
   "display_name": "base",
   "language": "python",
   "name": "python3"
  },
  "language_info": {
   "codemirror_mode": {
    "name": "ipython",
    "version": 3
   },
   "file_extension": ".py",
   "mimetype": "text/x-python",
   "name": "python",
   "nbconvert_exporter": "python",
   "pygments_lexer": "ipython3",
   "version": "3.9.7"
  },
  "orig_nbformat": 4
 },
 "nbformat": 4,
 "nbformat_minor": 2
}
